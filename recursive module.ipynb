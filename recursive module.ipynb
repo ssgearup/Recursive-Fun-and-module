{
 "cells": [
  {
   "cell_type": "code",
   "execution_count": 1,
   "metadata": {},
   "outputs": [],
   "source": [
    "import recursive_module\n",
    "# __pycache__ folder is created in directory"
   ]
  },
  {
   "cell_type": "code",
   "execution_count": 2,
   "metadata": {},
   "outputs": [
    {
     "name": "stdout",
     "output_type": "stream",
     "text": [
      "True\n"
     ]
    }
   ],
   "source": [
    "l=[100,200,300,400,500]\n",
    "key=200\n",
    "print(recursive_module.binary_search(l,key))"
   ]
  },
  {
   "cell_type": "code",
   "execution_count": 3,
   "metadata": {},
   "outputs": [
    {
     "name": "stdout",
     "output_type": "stream",
     "text": [
      "False\n"
     ]
    }
   ],
   "source": [
    "l=[100,200,300,400,500]\n",
    "key=20000\n",
    "print(recursive_module.binary_search(l,key))"
   ]
  },
  {
   "cell_type": "code",
   "execution_count": 4,
   "metadata": {
    "scrolled": true
   },
   "outputs": [
    {
     "name": "stdout",
     "output_type": "stream",
     "text": [
      "Help on module recursive_module:\n",
      "\n",
      "NAME\n",
      "    recursive_module\n",
      "\n",
      "DESCRIPTION\n",
      "    Docstring : this module contains binary search implementation.\n",
      "    Author : Subham Saha\n",
      "    Created : 22 May 2021\n",
      "\n",
      "FUNCTIONS\n",
      "    binary_search(l, key)\n",
      "        Binary Search : Input a list and a key\n",
      "        return True if Key exist else return False\n",
      "\n",
      "DATA\n",
      "    key = 700\n",
      "    l = [100, 200, 300, 400, 500, 600, 700, 800, 900]\n",
      "\n",
      "FILE\n",
      "    c:\\users\\subham saha\\documents\\recursive_module.py\n",
      "\n",
      "\n"
     ]
    }
   ],
   "source": [
    "help(recursive_module)"
   ]
  }
 ],
 "metadata": {
  "kernelspec": {
   "display_name": "Python 3",
   "language": "python",
   "name": "python3"
  },
  "language_info": {
   "codemirror_mode": {
    "name": "ipython",
    "version": 3
   },
   "file_extension": ".py",
   "mimetype": "text/x-python",
   "name": "python",
   "nbconvert_exporter": "python",
   "pygments_lexer": "ipython3",
   "version": "3.8.5"
  }
 },
 "nbformat": 4,
 "nbformat_minor": 4
}
