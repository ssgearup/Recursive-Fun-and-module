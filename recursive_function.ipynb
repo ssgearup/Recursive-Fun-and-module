{
 "cells": [
  {
   "cell_type": "markdown",
   "metadata": {},
   "source": [
    "# Recursive Function"
   ]
  },
  {
   "cell_type": "code",
   "execution_count": 1,
   "metadata": {},
   "outputs": [
    {
     "data": {
      "text/plain": [
       "120"
      ]
     },
     "execution_count": 1,
     "metadata": {},
     "output_type": "execute_result"
    }
   ],
   "source": [
    "# def factorial(num):\n",
    "#     if num==1:\n",
    "#             return 1\n",
    "#     else:\n",
    "#         return num * factorial(num - 1)\n",
    "\n",
    "\n",
    "# factorial(5)"
   ]
  },
  {
   "cell_type": "markdown",
   "metadata": {},
   "source": [
    "Logic:\n",
    "    factorial(5)----> 5 * fact(4)   (Here 4 is comapred to if statement)\n",
    "    \n",
    "                              4 * fact(3)  (Here 3 is comapred to if statement)\n",
    "                              \n",
    "                                     3 * fact(2)   (Here 2 is comapred to if statement)\n",
    "                                     \n",
    "                                            2 * fact(1)   (Here 1 is comapred to if statement)\n",
    "                                            \n",
    "                                                   1           (Here 1 is comapred to if statement, **got a match**)\n",
    "                    \n",
    "        Atlast return would be 1 and then it will return a answer to the immediate call function which is fact(1)\n",
    "        So, 2 * fact(1)= 2 * 1= 2. Then, 2 will return ans to its immediate call which is \n",
    "            3 * fact(2)= 3 * 2= 6 and so on,\n",
    "            4 * fact(3)= 4 * 6= 24,\n",
    "            5 * fact(4)= 5 * 24= 120.Got the Answer, because no call function present."
   ]
  },
  {
   "cell_type": "code",
   "execution_count": 4,
   "metadata": {},
   "outputs": [
    {
     "name": "stdout",
     "output_type": "stream",
     "text": [
      "__main__\n"
     ]
    }
   ],
   "source": [
    "#logic\n",
    "# mid= 9/2= 4 = 500 == 700 \n",
    "\n",
    "# [600,700,800,900]\n",
    "\n",
    "# mid= 4/2 = 2 = 800 == 700\n",
    "\n",
    "# [600,700]\n",
    "\n",
    "# mid = 2/2 = 1 =700 == 700 return True\n",
    "\n",
    "def binary_search(l,key):\n",
    "    if len(l)==0:\n",
    "        return False\n",
    "    else:\n",
    "        mid= len(l)//2\n",
    "        if l[mid]==key:\n",
    "            return True\n",
    "        elif key<l[mid]:\n",
    "            return binary_search(l[:mid],key)\n",
    "        else:\n",
    "            return binary_search(l[mid+1:],key)\n",
    "print(__name__)  # defaultly python is keeping the name of module as main \n",
    "\n",
    "if __name__ == '__main__' :\n",
    "    l = [100,200,300,400,500,600,700,800,900]\n",
    "    key = 700\n",
    "    binary_search(l,500)\n",
    "\n"
   ]
  },
  {
   "cell_type": "code",
   "execution_count": null,
   "metadata": {},
   "outputs": [],
   "source": []
  }
 ],
 "metadata": {
  "kernelspec": {
   "display_name": "Python 3",
   "language": "python",
   "name": "python3"
  },
  "language_info": {
   "codemirror_mode": {
    "name": "ipython",
    "version": 3
   },
   "file_extension": ".py",
   "mimetype": "text/x-python",
   "name": "python",
   "nbconvert_exporter": "python",
   "pygments_lexer": "ipython3",
   "version": "3.8.5"
  }
 },
 "nbformat": 4,
 "nbformat_minor": 4
}
